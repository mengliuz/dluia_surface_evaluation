{
  "nbformat": 4,
  "nbformat_minor": 0,
  "metadata": {
    "colab": {
      "provenance": []
    },
    "kernelspec": {
      "name": "python3",
      "display_name": "Python 3"
    },
    "language_info": {
      "name": "python"
    },
    "accelerator": "GPU",
    "gpuClass": "standard"
  },
  "cells": [
    {
      "cell_type": "code",
      "execution_count": 3,
      "metadata": {
        "id": "w-nBdNNKPhgh"
      },
      "outputs": [],
      "source": [
        "import numpy as np\n",
        "with open(\"scan_001.xyz\",\"r\") as fid:\n",
        "    pointcloud_01 = fid.read()\n",
        "\n",
        "pointcloud_01 = np.array([[float(p) for p in pc.split()] for pc in pointcloud_01.strip(\"\\n\").split(\"\\n\")])\n",
        "\n",
        "with open(\"scan_002.xyz\",\"r\") as fid:\n",
        "    pointcloud_02 = fid.read()\n",
        "    \n",
        "pointcloud_02 = np.array([[float(p) for p in pc.split()] for pc in pointcloud_02.strip(\"\\n\").split(\"\\n\")])"
      ]
    },
    {
      "cell_type": "code",
      "source": [
        "import torch\n",
        "print(torch.__version__)"
      ],
      "metadata": {
        "colab": {
          "base_uri": "https://localhost:8080/"
        },
        "id": "ixQ-JxCKR1f-",
        "outputId": "b86a4390-5f1c-4a78-a046-a0025d9a60e2"
      },
      "execution_count": 4,
      "outputs": [
        {
          "output_type": "stream",
          "name": "stdout",
          "text": [
            "1.13.1+cu116\n"
          ]
        }
      ]
    },
    {
      "cell_type": "code",
      "source": [
        "!nvcc --version"
      ],
      "metadata": {
        "colab": {
          "base_uri": "https://localhost:8080/"
        },
        "id": "cKFwORtySFpt",
        "outputId": "8e2eb2df-2b10-46fb-e56e-07ff2eb84df9"
      },
      "execution_count": 5,
      "outputs": [
        {
          "output_type": "stream",
          "name": "stdout",
          "text": [
            "nvcc: NVIDIA (R) Cuda compiler driver\n",
            "Copyright (c) 2005-2022 NVIDIA Corporation\n",
            "Built on Tue_Mar__8_18:18:20_PST_2022\n",
            "Cuda compilation tools, release 11.6, V11.6.124\n",
            "Build cuda_11.6.r11.6/compiler.31057947_0\n"
          ]
        }
      ]
    },
    {
      "cell_type": "code",
      "source": [
        "!pip install --upgrade jinja2\n",
        "!pip install -q kaolin==0.13.0 -f https://nvidia-kaolin.s3.us-east-2.amazonaws.com/torch-1.13.1_cu116.html"
      ],
      "metadata": {
        "colab": {
          "base_uri": "https://localhost:8080/"
        },
        "id": "erJXMj3pSIG7",
        "outputId": "ce6bda32-c8b4-45bd-cba9-f2628432fee4"
      },
      "execution_count": 37,
      "outputs": [
        {
          "output_type": "stream",
          "name": "stdout",
          "text": [
            "Looking in indexes: https://pypi.org/simple, https://us-python.pkg.dev/colab-wheels/public/simple/\n",
            "Requirement already satisfied: jinja2 in /usr/local/lib/python3.8/dist-packages (3.1.2)\n",
            "Requirement already satisfied: MarkupSafe>=2.0 in /usr/local/lib/python3.8/dist-packages (from jinja2) (2.1.2)\n"
          ]
        }
      ]
    },
    {
      "cell_type": "markdown",
      "source": [
        "##F-1 Score\n",
        "See F-1 score definition for pointcloud at Nvidia's KAOLIN documentation:\n",
        "https://kaolin.readthedocs.io/en/latest/modules/kaolin.metrics.pointcloud.html\n",
        "Using 0.1, 0.5, 1.0 for radius"
      ],
      "metadata": {
        "id": "h2TTSMDUVC6B"
      }
    },
    {
      "cell_type": "code",
      "source": [
        "from kaolin.metrics.pointcloud import f_score\n",
        "print(f_score(torch.tensor(pointcloud_01[np.newaxis, :, :]).to('cuda:0'), torch.tensor(pointcloud_01[np.newaxis, :, :]).to('cuda:0'), radius=0.1, eps=1e-08))\n",
        "print(f_score(torch.tensor(pointcloud_01[np.newaxis, :, :]).to('cuda:0'), torch.tensor(pointcloud_02[np.newaxis, :, :]).to('cuda:0'), radius=0.1, eps=1e-08))\n",
        "print(f_score(torch.tensor(pointcloud_01[np.newaxis, :, :]).to('cuda:0'), torch.tensor(pointcloud_02[np.newaxis, :, :]).to('cuda:0'), radius=0.5, eps=1e-08))\n",
        "print(f_score(torch.tensor(pointcloud_01[np.newaxis, :, :]).to('cuda:0'), torch.tensor(pointcloud_02[np.newaxis, :, :]).to('cuda:0'), radius=1.0, eps=1e-08))"
      ],
      "metadata": {
        "colab": {
          "base_uri": "https://localhost:8080/"
        },
        "id": "7jsyoQ4vS3Gd",
        "outputId": "d20d8625-fac7-40be-844f-c70eba298218"
      },
      "execution_count": 7,
      "outputs": [
        {
          "output_type": "stream",
          "name": "stdout",
          "text": [
            "tensor([1.0000], device='cuda:0', dtype=torch.float64)\n",
            "tensor([0.0001], device='cuda:0', dtype=torch.float64)\n",
            "tensor([0.0177], device='cuda:0', dtype=torch.float64)\n",
            "tensor([0.0402], device='cuda:0', dtype=torch.float64)\n"
          ]
        }
      ]
    },
    {
      "cell_type": "markdown",
      "source": [
        "## Chamfer Distance\n",
        "See Chamfer definition for pointcloud at Nvidia's KAOLIN documentation: \n",
        "https://kaolin.readthedocs.io/en/latest/modules/kaolin.metrics.pointcloud.html\n",
        "We use default parameters for symmetric distance"
      ],
      "metadata": {
        "id": "FUHmi96dVfEj"
      }
    },
    {
      "cell_type": "code",
      "source": [
        "from kaolin.metrics.pointcloud import chamfer_distance\n",
        "print(chamfer_distance(torch.tensor(pointcloud_01[np.newaxis, :, :]).to('cuda:0'), torch.tensor(pointcloud_01[np.newaxis, :, :]).to('cuda:0')))\n",
        "print(chamfer_distance(torch.tensor(pointcloud_01[np.newaxis, :, :]).to('cuda:0'), torch.tensor(pointcloud_02[np.newaxis, :, :]).to('cuda:0')))"
      ],
      "metadata": {
        "colab": {
          "base_uri": "https://localhost:8080/"
        },
        "id": "qCIkKtb6Viqk",
        "outputId": "4e229109-d8c6-4036-bf6a-1aa9b4a12f90"
      },
      "execution_count": 8,
      "outputs": [
        {
          "output_type": "stream",
          "name": "stdout",
          "text": [
            "tensor([0.], device='cuda:0', dtype=torch.float64)\n",
            "tensor([1121.5381], device='cuda:0', dtype=torch.float64)\n"
          ]
        }
      ]
    },
    {
      "cell_type": "markdown",
      "source": [
        "## Direct Hausdorff\n",
        "See Scipy's documentation for direct Hausdorff distance:\n",
        "https://scipy.github.io/devdocs/reference/generated/scipy.spatial.distance.directed_hausdorff.html"
      ],
      "metadata": {
        "id": "KyYc9ygfaTa7"
      }
    },
    {
      "cell_type": "code",
      "source": [
        "from scipy.spatial.distance import directed_hausdorff\n",
        "d, _, _ = directed_hausdorff(pointcloud_01, pointcloud_01)\n",
        "print(\"Hausdorff distance between PC1 and itself\", d)\n",
        "d, _, _ = directed_hausdorff(pointcloud_01, pointcloud_02)\n",
        "print(\"Hausdorff distance between PC1 and PC2\", d)"
      ],
      "metadata": {
        "colab": {
          "base_uri": "https://localhost:8080/"
        },
        "id": "uUASsurUaWAh",
        "outputId": "327b036e-81d0-451f-d4bb-ff6ae3be50b3"
      },
      "execution_count": 9,
      "outputs": [
        {
          "output_type": "stream",
          "name": "stdout",
          "text": [
            "Hausdorff distance between PC1 and itself 0.0\n",
            "Hausdorff distance between PC1 and PC2 84.35377434908852\n"
          ]
        }
      ]
    },
    {
      "cell_type": "markdown",
      "source": [
        "## Mean Surface Distance / Average Symmetric Surface Distance\n",
        "See the definition here:\n",
        "https://github.com/emrekavur/CHAOS-evaluation/blob/master/CHAOS_Metrics_and_Evaluation_Method.pdf"
      ],
      "metadata": {
        "id": "J6IHQX7Iake4"
      }
    },
    {
      "cell_type": "code",
      "source": [
        "import numpy as np\n",
        "from kaolin.metrics.pointcloud import sided_distance\n",
        "\n",
        "def mean_surface_distance(p1: torch.tensor, p2: torch.tensor) -> float:\n",
        "  msd = torch.sum(sided_distance(p1, p2)[0]).detach().cpu().numpy() + torch.sum(sided_distance(p2, p1)[0]).detach().cpu().numpy()\n",
        "  msd /= p1.size()[1] + p2.size()[1]\n",
        "  return msd\n",
        "\n",
        "print(mean_surface_distance(torch.tensor(pointcloud_01[np.newaxis, :, :]).to('cuda:0'), torch.tensor(pointcloud_01[np.newaxis, :, :]).to('cuda:0')))\n",
        "print(mean_surface_distance(torch.tensor(pointcloud_01[np.newaxis, :, :]).to('cuda:0'), torch.tensor(pointcloud_02[np.newaxis, :, :]).to('cuda:0')))"
      ],
      "metadata": {
        "colab": {
          "base_uri": "https://localhost:8080/"
        },
        "id": "Ck2V3knQamNg",
        "outputId": "de0412c8-16ae-48c4-8f85-1c69f9387175"
      },
      "execution_count": 35,
      "outputs": [
        {
          "output_type": "stream",
          "name": "stdout",
          "text": [
            "0.0\n",
            "530.9226978520774\n"
          ]
        }
      ]
    },
    {
      "cell_type": "markdown",
      "source": [
        "## Residual Mean Square Distance\n",
        "See definition here: https://github.com/emrekavur/CHAOS-evaluation/blob/master/CHAOS_Metrics_and_Evaluation_Method.pdf"
      ],
      "metadata": {
        "id": "FxYGsHUl4sKc"
      }
    },
    {
      "cell_type": "code",
      "source": [
        "import numpy as np\n",
        "from kaolin.metrics.pointcloud import sided_distance\n",
        "\n",
        "def mean_surface_distance(p1: torch.tensor, p2: torch.tensor) -> float:\n",
        "  msd = torch.sum(torch.square(sided_distance(p1, p2)[0])).detach().cpu().numpy() + torch.sum(torch.square(sided_distance(p2, p1)[0])).detach().cpu().numpy()\n",
        "  msd /= p1.size()[1] + p2.size()[1]\n",
        "  return msd\n",
        "\n",
        "print(mean_surface_distance(torch.tensor(pointcloud_01[np.newaxis, :, :]).to('cuda:0'), torch.tensor(pointcloud_01[np.newaxis, :, :]).to('cuda:0')))\n",
        "print(mean_surface_distance(torch.tensor(pointcloud_01[np.newaxis, :, :]).to('cuda:0'), torch.tensor(pointcloud_02[np.newaxis, :, :]).to('cuda:0')))"
      ],
      "metadata": {
        "colab": {
          "base_uri": "https://localhost:8080/"
        },
        "id": "_2GOMUn54un3",
        "outputId": "70873a1b-0264-4e7f-d245-d62e1ddad88b"
      },
      "execution_count": 36,
      "outputs": [
        {
          "output_type": "stream",
          "name": "stdout",
          "text": [
            "0.0\n",
            "860766.9340059942\n"
          ]
        }
      ]
    }
  ]
}